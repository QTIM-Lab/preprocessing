{
 "cells": [
  {
   "cell_type": "markdown",
   "id": "bf795959-4bae-4e16-ace2-1d12aadb3d58",
   "metadata": {},
   "source": [
    "# Dataset Creation"
   ]
  },
  {
   "cell_type": "markdown",
   "id": "c4af3f07-6548-4161-8ba1-cada69dd4ae7",
   "metadata": {},
   "source": [
    "## DICOM Datasets\n"
   ]
  },
  {
   "cell_type": "markdown",
   "id": "cc74fa7e-caf4-46ab-b9d1-c87beb8ba56a",
   "metadata": {},
   "source": [
    "### Find (and optionally Reorganize) DICOMs"
   ]
  },
  {
   "cell_type": "markdown",
   "id": "4693da94-a9eb-4381-b676-09392d1f41aa",
   "metadata": {},
   "source": [
    "CLI example:\n",
    "\n",
    "For a publicly available dataset: [upenn-gbm](https://portal.imaging.datacommons.cancer.gov/explore/filters/?collection_id=upenn_gbm)"
   ]
  },
  {
   "cell_type": "code",
   "execution_count": 1,
   "id": "3726dd7f-c769-408e-9246-dca8f5ccf1c6",
   "metadata": {},
   "outputs": [
    {
     "name": "stdout",
     "output_type": "stream",
     "text": [
      "usage: preprocessing <command> [<args>]\n",
      "\n",
      "The following commands are available:\n",
      "    validate-installation       Check that the `preprocessing` library is installed correctly along\n",
      "                                with all of its dependencies.\n",
      "\n",
      "    dicom-dataset               Create a DICOM dataset CSV compatible with subsequent `preprocessing`\n",
      "                                scripts. The final CSV provides a series level summary of the location\n",
      "                                of each series alongside metadata extracted from DICOM headers.  If the\n",
      "                                previous organization schems of the dataset does not enforce a DICOM\n",
      "                                series being isolated to a unique directory (instances belonging to\n",
      "                                multiple series must not share the same lowest level directory),\n",
      "                                reorganization must be applied for NIfTI conversion.\n",
      "\n",
      "    nifti-dataset               Create a NIfTI dataset CSV compatible with subsequent `preprocessing`\n",
      "                                scripts. The final CSV provides a series level summary of the location\n",
      "                                of each series alongside metadata generated to simulate DICOM headers.\n",
      "                                Specifically, ['PatientID', 'StudyDate', 'SeriesInstanceUID',\n",
      "                                'SeriesDescription', 'StudyInstanceUID'] (and optionally\n",
      "                                'NormalizedSeriesDescription') are inferred or randomly generated.\n",
      "\n",
      "    dataset-to-nifti            Convert DICOMs to NIfTI file format. A CSV is required to map a\n",
      "                                DICOM series to the resulting .nii.gz file and to provide\n",
      "                                the context for filenames. The outputs will follow a BIDS inspired\n",
      "                                convention.\n",
      "\n",
      "    brain-preprocessing         Preprocess NIfTI files for deep learning. A CSV is required to\n",
      "                                indicate the location of source files and to procide the context\n",
      "                                for filenames. The outputs will follow a BIDS inspired convention.\n",
      "\n",
      "    track-tumors                Longitudinal tracking of individual tumors. Each connected component\n",
      "                                for a given label within a segmentation mask is assigned a unique ID\n",
      "                                that will remain consistent across all scans belonging to the same\n",
      "                                patient. This command assumes that longitudinal or atlas registration\n",
      "                                was used when preprocessing the data.\n",
      "\n",
      "Run `preprocessing <command> --help` for more details about how to use each individual command. dicom-dataset\n",
      "       [-h] [--reorg-dir REORG_DIR] [-a {is_anon,auto,deferred}] [-b BATCH]\n",
      "       [--assume-extension] [-m {arbitrary,midas}] [-c CPUS]\n",
      "       dicom-dir csv\n",
      "\n",
      "Create a DICOM dataset CSV compatible with subsequent `preprocessing` scripts.\n",
      "The final CSV provides a series level summary of the location of each series\n",
      "alongside metadata extracted from DICOM headers. If the previous organization\n",
      "schems of the dataset does not enforce a DICOM series being isolated to a\n",
      "unique directory (instances belonging to multiple series must not share the\n",
      "same lowest level directory), reorganization must be applied for NIfTI\n",
      "conversion.\n",
      "\n",
      "positional arguments:\n",
      "  dicom-dir             The directory in which the DICOM data is originally\n",
      "                        stored.\n",
      "  csv                   The filepath of the output CSV which defines the\n",
      "                        constructed dataset. A corresponding instance level\n",
      "                        CSV will also be written out.\n",
      "\n",
      "options:\n",
      "  -h, --help            show this help message and exit\n",
      "  --reorg-dir REORG_DIR\n",
      "                        The directory to which files are reorganized if a\n",
      "                        value other than `None` is provided. Defaults to\n",
      "                        `None`.\n",
      "  -a {is_anon,auto,deferred}, --anon {is_anon,auto,deferred}\n",
      "                        The anonymization scheme to apply to the completed\n",
      "                        CSV. Choose from: 'is_anon' Assumes the data is\n",
      "                        already anonymized and uses the 'PatientID' and\n",
      "                        'StudyDate' values. 'auto' Apply automated\n",
      "                        anonymization to the CSV. This function assumes that\n",
      "                        the 'PatientID' and 'StudyID' tags are consistent and\n",
      "                        correct to derive 'AnonPatientID' = 'sub_{i:02d}' and\n",
      "                        'AnonStudyID' = 'ses_{i:02d}'. 'deferred' Skip\n",
      "                        anonymization of the generated CSV. This step will be\n",
      "                        required for subsequent scripts.\n",
      "  -b BATCH, --batch BATCH\n",
      "                        The size of the groups of files on which metadata\n",
      "                        extraction is applied.\n",
      "  --assume-extension    Assume that the DICOM instances all share the '.dcm'\n",
      "                        file extension.\n",
      "  -m {arbitrary,midas}, --mode {arbitrary,midas}\n",
      "                        The assumed data orgnaization scheme under\n",
      "                        `dicom_dir`. The choices are ['arbitrary', 'midas'].\n",
      "                        Defaults to 'arbitrary'.\n",
      "  -c CPUS, --cpus CPUS  Number of cpus to use for multiprocessing. Defaults to\n",
      "                        1 (no multiprocessing).\n"
     ]
    }
   ],
   "source": [
    "!preprocessing dicom-dataset --help"
   ]
  },
  {
   "cell_type": "code",
   "execution_count": 2,
   "id": "d1cc9e30-54d4-4ec2-b6ba-70c26ccd8227",
   "metadata": {},
   "outputs": [
    {
     "name": "stdout",
     "output_type": "stream",
     "text": [
      "Constructing DICOM dataset: 100%|█████▉| 839990/840621 [18:38<00:00, 751.06it/s]\n",
      "Dataset of DICOM instances saved to /autofs/space/crater_001/tools/repos/preprocessing_dev/notebooks/dicom_dataset_examples/upenn_gbm_dataset_instances.csv\n",
      "Anonymizing dataset: 100%|██████████████████| 630/630 [00:00<00:00, 1177.71it/s]\n",
      "Anonymization completed\n",
      "Dataset written to /autofs/space/crater_001/tools/repos/preprocessing_dev/notebooks/dicom_dataset_examples/upenn_gbm_dataset.csv\n"
     ]
    }
   ],
   "source": [
    "!preprocessing dicom-dataset \\\n",
    "    /autofs/space/crater_001/datasets/public/NIH_IDC_Brain/upenn_gbm \\\n",
    "    dicom_dataset_examples/upenn_gbm_dataset.csv \\\n",
    "    -c 80"
   ]
  },
  {
   "cell_type": "markdown",
   "id": "5147a3d1-da7c-4969-84f6-0e6d79ed55b0",
   "metadata": {},
   "source": [
    "Python API example:\n",
    "\n",
    "For a publically available dataset: [remind](https://portal.imaging.datacommons.cancer.gov/explore/filters/?collection_id=remind)"
   ]
  },
  {
   "cell_type": "code",
   "execution_count": 3,
   "id": "d1ce559d-529f-4b47-b95e-2d21b1def528",
   "metadata": {},
   "outputs": [
    {
     "name": "stdout",
     "output_type": "stream",
     "text": [
      "Help on function create_dicom_dataset in module preprocessing.data.datasets:\n",
      "\n",
      "create_dicom_dataset(dicom_dir: pathlib.Path | str, dataset_csv: pathlib.Path | str, reorg_dir: pathlib.Path | str | None = None, anon: Literal['is_anon', 'auto', 'deferred'] = 'auto', batch_size: int = 1000, file_extension: Literal['*', '*.dcm'] = '*', mode: Literal['arbitrary', 'midas'] = 'arbitrary', cpus: int = 1)\n",
      "    Create a DICOM dataset CSV compatible with subsequent `preprocessing`\n",
      "    scripts. The final CSV provides a series level summary of the location\n",
      "    of each series alongside metadata extracted from DICOM headers.  If the\n",
      "    previous organization schems of the dataset does not enforce a DICOM\n",
      "    series being isolated to a unique directory (instances belonging to\n",
      "    multiple series must not share the same lowest level directory),\n",
      "    reorganization must be applied for NIfTI conversion.\n",
      "    \n",
      "    \n",
      "    Parameters\n",
      "    ----------\n",
      "    dicom_dir: Path | str\n",
      "        The directory in which the DICOM data is originally stored.\n",
      "    \n",
      "    dataset_csv: Path | str\n",
      "        The filepath of the output CSV which defines the constructed\n",
      "        dataset. A corresponding instance level CSV will also be written\n",
      "        out.\n",
      "    \n",
      "    reorg_dir: Path | str | None\n",
      "        The directory to which files are reorganized if a value\n",
      "        other than `None` is provided. Defaults to `None`.\n",
      "    \n",
      "    anon: str\n",
      "        The anonymization scheme to apply to the completed CSV. Choose\n",
      "        from:\n",
      "            'is_anon'\n",
      "                Assumes the data is already anonymized and uses the\n",
      "                'PatientID' and 'StudyDate' values.\n",
      "    \n",
      "            'auto'\n",
      "                Apply automated anonymization to the CSV. This function\n",
      "                assumes that the 'PatientID' and 'StudyID' tags are\n",
      "                consistent and correct to derive 'AnonPatientID' = 'sub_{i:02d}'\n",
      "                and 'AnonStudyID' = 'ses_{i:02d}'.\n",
      "    \n",
      "            'deferred'\n",
      "                Skip anonymization of the generated CSV. This step will be\n",
      "                required for subsequent scripts.\n",
      "    \n",
      "    batch_size: int\n",
      "        The size of the groups of files on which metadata extraction is applied.\n",
      "    \n",
      "    file_extension: str\n",
      "        The assumed file extension used to identify DICOMs. The choices\n",
      "        are ['*', '*.dcm']. Defaults to '*'.\n",
      "    \n",
      "    mode: str\n",
      "        The assumed data orgnaization scheme under `dicom_dir`. The choices\n",
      "        are ['arbitrary', 'midas']. Defaults to 'arbitrary'.\n",
      "    \n",
      "    cpus: int\n",
      "        Number of cpus to use for multiprocessing. Defaults to 1 (no multiprocessing).\n",
      "    \n",
      "    Returns\n",
      "    -------\n",
      "    None\n",
      "        This function does not return anything+, but a CSV is generated to the location\n",
      "        specified by `dataset_csv`. An instance level CSV is also generated to `str(dataset_csv).replace('.csv', '_instances.csv')`.\n",
      "        An error file is potentially generated to the same parent directory of these CSVs.\n",
      "\n"
     ]
    }
   ],
   "source": [
    "from preprocessing.data import create_dicom_dataset\n",
    "help(create_dicom_dataset)"
   ]
  },
  {
   "cell_type": "code",
   "execution_count": 4,
   "id": "c3bc759c-acc9-457d-ab90-e747e687a865",
   "metadata": {},
   "outputs": [
    {
     "name": "stderr",
     "output_type": "stream",
     "text": [
      "Constructing DICOM dataset: 90419it [03:21, 448.13it/s]                                                                                                                                                                                                                                                                                        \n"
     ]
    },
    {
     "name": "stdout",
     "output_type": "stream",
     "text": [
      "Dataset of DICOM instances saved to /autofs/space/crater_001/tools/repos/preprocessing_dev/notebooks/dicom_dataset_examples/remind_dataset_instances.csv\n"
     ]
    },
    {
     "name": "stderr",
     "output_type": "stream",
     "text": [
      "Anonymizing dataset: 100%|█████████████████████████████████████████████████████████████████████████████████████████████████████████████████████████████████████████████████████████████████████████████████████████████████████████████████████████████████████████████████████████████████████████████████| 114/114 [00:00<00:00, 1790.80it/s]\n"
     ]
    },
    {
     "name": "stdout",
     "output_type": "stream",
     "text": [
      "Anonymization completed\n",
      "Dataset written to /autofs/space/crater_001/tools/repos/preprocessing_dev/notebooks/dicom_dataset_examples/remind_dataset.csv\n"
     ]
    }
   ],
   "source": [
    "create_dicom_dataset(\n",
    "    dicom_dir=\"/autofs/space/crater_001/datasets/public/NIH_IDC_Brain/remind\",\n",
    "    dataset_csv=\"dicom_dataset_examples/remind_dataset.csv\",\n",
    "    cpus=80\n",
    ")"
   ]
  },
  {
   "cell_type": "markdown",
   "id": "5471af21-7557-421c-9adb-99b2bb7d5f5f",
   "metadata": {},
   "source": [
    "Remember that subsequent commands require data to be converted from DICOM to the NIfTI file format. See [DICOM to NIfTI Conversion](#DICOM-to-NIfTI-Conversion) for more information"
   ]
  },
  {
   "cell_type": "markdown",
   "id": "ca6d814f-33d1-4ca2-9898-726428838bd8",
   "metadata": {},
   "source": [
    "## NIfTI Datasets"
   ]
  },
  {
   "cell_type": "code",
   "execution_count": 5,
   "id": "7b0d4a86-d402-4323-b3e1-0c62f76af1d5",
   "metadata": {},
   "outputs": [
    {
     "name": "stdout",
     "output_type": "stream",
     "text": [
      "usage: preprocessing <command> [<args>]\n",
      "\n",
      "The following commands are available:\n",
      "    validate-installation       Check that the `preprocessing` library is installed correctly along\n",
      "                                with all of its dependencies.\n",
      "\n",
      "    dicom-dataset               Create a DICOM dataset CSV compatible with subsequent `preprocessing`\n",
      "                                scripts. The final CSV provides a series level summary of the location\n",
      "                                of each series alongside metadata extracted from DICOM headers.  If the\n",
      "                                previous organization schems of the dataset does not enforce a DICOM\n",
      "                                series being isolated to a unique directory (instances belonging to\n",
      "                                multiple series must not share the same lowest level directory),\n",
      "                                reorganization must be applied for NIfTI conversion.\n",
      "\n",
      "    nifti-dataset               Create a NIfTI dataset CSV compatible with subsequent `preprocessing`\n",
      "                                scripts. The final CSV provides a series level summary of the location\n",
      "                                of each series alongside metadata generated to simulate DICOM headers.\n",
      "                                Specifically, ['PatientID', 'StudyDate', 'SeriesInstanceUID',\n",
      "                                'SeriesDescription', 'StudyInstanceUID'] (and optionally\n",
      "                                'NormalizedSeriesDescription') are inferred or randomly generated.\n",
      "\n",
      "    dataset-to-nifti            Convert DICOMs to NIfTI file format. A CSV is required to map a\n",
      "                                DICOM series to the resulting .nii.gz file and to provide\n",
      "                                the context for filenames. The outputs will follow a BIDS inspired\n",
      "                                convention.\n",
      "\n",
      "    brain-preprocessing         Preprocess NIfTI files for deep learning. A CSV is required to\n",
      "                                indicate the location of source files and to procide the context\n",
      "                                for filenames. The outputs will follow a BIDS inspired convention.\n",
      "\n",
      "    track-tumors                Longitudinal tracking of individual tumors. Each connected component\n",
      "                                for a given label within a segmentation mask is assigned a unique ID\n",
      "                                that will remain consistent across all scans belonging to the same\n",
      "                                patient. This command assumes that longitudinal or atlas registration\n",
      "                                was used when preprocessing the data.\n",
      "\n",
      "Run `preprocessing <command> --help` for more details about how to use each individual command. nifti-dataset\n",
      "       [-h] [-a {is_anon,auto,deferred}] [-b BATCH] [-ss SEG_SERIES]\n",
      "       [-st SEG_TARGET] [-c CPUS]\n",
      "       nifti-dir csv file-pattern\n",
      "\n",
      "Create a NIfTI dataset CSV compatible with subsequent `preprocessing` scripts.\n",
      "The final CSV provides a series level summary of the location of each series\n",
      "alongside metadata generated to simulate DICOM headers. Specifically,\n",
      "['PatientID', 'StudyDate', 'SeriesInstanceUID', 'SeriesDescription',\n",
      "'StudyInstanceUID'] (and optionally 'NormalizedSeriesDescription') are\n",
      "inferred or randomly generated.\n",
      "\n",
      "positional arguments:\n",
      "  nifti-dir             The directory in which the DICOM data is originally\n",
      "                        stored.\n",
      "  csv                   The filepath of the output CSV which defines the\n",
      "                        constructed dataset.\n",
      "  file-pattern          The file naming convention (without file extensions)\n",
      "                        of NIfTIs within a dataset. Variable names are encoded\n",
      "                        using '{}' (e.g. `file_pattern` =\n",
      "                        '{patient}_{study}_{series}' would find values for the\n",
      "                        `patient`, `study`, and `series` variables). The\n",
      "                        `patient`, `study`, and `series` variables must be\n",
      "                        defined.\n",
      "\n",
      "options:\n",
      "  -h, --help            show this help message and exit\n",
      "  -a {is_anon,auto,deferred}, --anon {is_anon,auto,deferred}\n",
      "                        The anonymization scheme to apply to the completed\n",
      "                        CSV. Choose from: 'is_anon' Assumes the data is\n",
      "                        already anonymized and uses the 'PatientID' and\n",
      "                        'StudyDate' values. 'auto' Apply automated\n",
      "                        anonymization to the CSV. This function assumes that\n",
      "                        the 'PatientID' and 'StudyID' tags are consistent and\n",
      "                        correct to derive 'AnonPatientID' = 'sub_{i:02d}' and\n",
      "                        'AnonStudyID' = 'ses_{i:02d}'. 'deferred' Skip\n",
      "                        anonymization of the generated CSV. This step will be\n",
      "                        required for subsequent scripts.\n",
      "  -b BATCH, --batch BATCH\n",
      "                        The size of the groups of files on which metadata\n",
      "                        extraction is applied.\n",
      "  -ss SEG_SERIES, --seg-series SEG_SERIES\n",
      "                        The series description of segmentations within the\n",
      "                        dataset, assuming a consistent value is present. Must\n",
      "                        also specify `seg_target` to handle segmentations\n",
      "                        properly. Defaults to `None`.\n",
      "  -st SEG_TARGET, --seg-target SEG_TARGET\n",
      "                        The series description of the series from which\n",
      "                        segmentations are derived, assuming a consistent value\n",
      "                        is present. Must also specify `seg_series` to handle\n",
      "                        segmentations properly. Defaults to `None`.\n",
      "  -c CPUS, --cpus CPUS  Number of cpus to use for multiprocessing. Defaults to\n",
      "                        1 (no multiprocessing).\n"
     ]
    }
   ],
   "source": [
    "!preprocessing nifti-dataset --help"
   ]
  },
  {
   "cell_type": "markdown",
   "id": "fee77295-e29e-4e06-afa0-955d217aa1e7",
   "metadata": {},
   "source": [
    "## DICOM to NIfTI Conversion"
   ]
  },
  {
   "cell_type": "markdown",
   "id": "524849f0-bceb-455d-8dc7-55a0e250b49d",
   "metadata": {},
   "source": [
    "The outputs of our NIfTI conversion script follow a naming convention inspired by [BIDS](https://bids-website.readthedocs.io/en/latest/getting_started/folders_and_files/files.html#mri). However, note that the outputs are **NOT** BIDS compliant as the `preprocessing` library tracks metadata differently through the use of a dataset CSV.\n",
    "\n",
    "Before NIfTI conversion, the \"NormalizedSeriesDescription\" and \"SeriesType\" columns of the dataset CSV **MUST** be populated. To avoid potential conflicts in the resulting NIfTI filenames, we do not use the standard \"SeriesDescription\" attribute and instead specify our own before running our script. Keep in mind that repeating values of \"NormalizedSeriesDescription\" within a study would result in the same converted filename. Therefore, if repetition in a study is encountered, only the first file will be converted and the other(s) will be ignored. The \"SeriesType\" entries serve to further separate the files in both terms of organization and relevant logic of preprocessing steps applied. Again borrowing from BIDS, expected values include \"anat\", \"dwi\", \"fmap\", \"func\", \"perf\", \"etc\". Currently, only \"anat\" is explicitly supported (preprocessing steps do not currently depend on the value of \"SeriesType\"), but this is intended to change in the future.\n",
    "\n",
    "There are no automated methods for populating these columns included directly in `preprocessing`, as we do not consider this a preprocessing step in and of itself. Rather, series selection should be handled manually or by another tool. Continuing the examples from before, we are relying on the assumption that the example datasets are curated enough that T1 weighted post-contrast MRI can be identified through the standard \"SeriesDescription\" attribute (given the \"NormalizedSeriesDescription\" of \"T1Post\"). In practice, we do not recommend this due to frequent inaccuracy in this DICOM tag and suggest using tools based on DICOM metadata or manual identification for series selection."
   ]
  },
  {
   "cell_type": "code",
   "execution_count": 6,
   "id": "5655cae9-97e4-4f60-8e65-d363f60987f8",
   "metadata": {},
   "outputs": [],
   "source": [
    "# manually performing series selection\n",
    "import pandas as pd\n",
    "\n",
    "remind_dataset_csv = \"dicom_dataset_examples/remind_dataset.csv\"\n",
    "remind_df = pd.read_csv(remind_dataset_csv, dtype=str)\n",
    "remind_df[\"NormalizedSeriesDescription\"] = remind_df[\"SeriesDescription\"].apply(lambda x: \"T1Post\" if \"post\" in str(x).lower() else '')\n",
    "remind_df[\"SeriesType\"] = remind_df[\"NormalizedSeriesDescription\"].apply(lambda x: \"anat\" if x == \"T1Post\" else None)\n",
    "remind_df.to_csv(remind_dataset_csv, index=False)\n",
    "\n",
    "upenn_dataset_csv = \"dicom_dataset_examples/upenn_gbm_dataset.csv\"\n",
    "upenn_df = pd.read_csv(upenn_dataset_csv, dtype=str)\n",
    "upenn_df[\"NormalizedSeriesDescription\"] = upenn_df[\"SeriesDescription\"].apply(lambda x: \"T1Post\" if \"post\" in str(x).lower() else '')\n",
    "upenn_df[\"SeriesType\"] = upenn_df[\"NormalizedSeriesDescription\"].apply(lambda x: \"anat\" if x == \"T1Post\" else None)\n",
    "upenn_df.to_csv(upenn_dataset_csv, index=False)"
   ]
  },
  {
   "cell_type": "code",
   "execution_count": 7,
   "id": "a5e383b1-f62e-4018-b8f8-fc0af97cf303",
   "metadata": {},
   "outputs": [
    {
     "name": "stdout",
     "output_type": "stream",
     "text": [
      "usage: preprocessing <command> [<args>]\n",
      "\n",
      "The following commands are available:\n",
      "    validate-installation       Check that the `preprocessing` library is installed correctly along\n",
      "                                with all of its dependencies.\n",
      "\n",
      "    dicom-dataset               Create a DICOM dataset CSV compatible with subsequent `preprocessing`\n",
      "                                scripts. The final CSV provides a series level summary of the location\n",
      "                                of each series alongside metadata extracted from DICOM headers.  If the\n",
      "                                previous organization schems of the dataset does not enforce a DICOM\n",
      "                                series being isolated to a unique directory (instances belonging to\n",
      "                                multiple series must not share the same lowest level directory),\n",
      "                                reorganization must be applied for NIfTI conversion.\n",
      "\n",
      "    nifti-dataset               Create a NIfTI dataset CSV compatible with subsequent `preprocessing`\n",
      "                                scripts. The final CSV provides a series level summary of the location\n",
      "                                of each series alongside metadata generated to simulate DICOM headers.\n",
      "                                Specifically, ['PatientID', 'StudyDate', 'SeriesInstanceUID',\n",
      "                                'SeriesDescription', 'StudyInstanceUID'] (and optionally\n",
      "                                'NormalizedSeriesDescription') are inferred or randomly generated.\n",
      "\n",
      "    dataset-to-nifti            Convert DICOMs to NIfTI file format. A CSV is required to map a\n",
      "                                DICOM series to the resulting .nii.gz file and to provide\n",
      "                                the context for filenames. The outputs will follow a BIDS inspired\n",
      "                                convention.\n",
      "\n",
      "    brain-preprocessing         Preprocess NIfTI files for deep learning. A CSV is required to\n",
      "                                indicate the location of source files and to procide the context\n",
      "                                for filenames. The outputs will follow a BIDS inspired convention.\n",
      "\n",
      "    track-tumors                Longitudinal tracking of individual tumors. Each connected component\n",
      "                                for a given label within a segmentation mask is assigned a unique ID\n",
      "                                that will remain consistent across all scans belonging to the same\n",
      "                                patient. This command assumes that longitudinal or atlas registration\n",
      "                                was used when preprocessing the data.\n",
      "\n",
      "Run `preprocessing <command> --help` for more details about how to use each individual command. dataset-to-nifti\n",
      "       [-h] [-ss SEG_SOURCE] [--overwrite] [--skip-integrity-checks]\n",
      "       [-t CONVERSION_TOLERANCE] [-c CPUS]\n",
      "       nifti-dir csv\n",
      "\n",
      "Convert DICOMs to NIfTI file format. A CSV is required to map a DICOM series\n",
      "to the resulting .nii.gz file and to provide the context for filenames. The\n",
      "outputs will follow a BIDS inspired convention.\n",
      "\n",
      "positional arguments:\n",
      "  nifti-dir             The directory that will contain the converted NIfTI\n",
      "                        files.\n",
      "  csv                   A CSV containing dicom location and information\n",
      "                        required for the nifti file names. It must contain the\n",
      "                        columns: ['Dicoms', 'AnonPatientID', 'AnonStudyID',\n",
      "                        'StudyInstanceUID', 'SeriesInstanceUID',\n",
      "                        'Manufacturer', 'NormalizedSeriesDescription',\n",
      "                        'SeriesType'].\n",
      "\n",
      "options:\n",
      "  -h, --help            show this help message and exit\n",
      "  -ss SEG_SOURCE, --seg-source SEG_SOURCE\n",
      "                        The 'NormalizedSeriesDescription' of the source volume\n",
      "                        used for deriving segmentations.\n",
      "  --overwrite           Whether to overwrite the .nii.gz files. False if not\n",
      "                        specified.\n",
      "  --skip-integrity-checks\n",
      "                        Whether to skip performing the DICOM integrity checks\n",
      "                        before attempting conversion to NIfTI.\n",
      "  -t CONVERSION_TOLERANCE, --conversion-tolerance CONVERSION_TOLERANCE\n",
      "                        The conversion tolerance for `highdicom`'s NIfTI\n",
      "                        conversion. Defaults to 0.05.\n",
      "  -c CPUS, --cpus CPUS  Number of cpus to use for multiprocessing. Defaults to\n",
      "                        1 (no multiprocessing).\n"
     ]
    }
   ],
   "source": [
    "!preprocessing dataset-to-nifti --help"
   ]
  },
  {
   "cell_type": "code",
   "execution_count": 8,
   "id": "f7144f2a-5a41-429a-8bdd-4408a055d53b",
   "metadata": {},
   "outputs": [
    {
     "name": "stdout",
     "output_type": "stream",
     "text": [
      "Converting to NIfTI:   0%|                              | 0/226 [00:00<?, ?it/s]/autofs/space/crater_001/datasets/public/NIH_IDC_Brain/remind/ReMIND-023/1.3.6.1.4.1.14519.5.2.1.36117150865305132080994538736709909848/US_1.3.6.1.4.1.14519.5.2.1.229063924195156492220643991189118349143 does not pass integrity checks and will not be converted to NIfTI\n",
      "/autofs/space/crater_001/datasets/public/NIH_IDC_Brain/remind/ReMIND-106/1.3.6.1.4.1.14519.5.2.1.291284197960973976865313182698264218988/US_1.3.6.1.4.1.14519.5.2.1.304956174426870126481642669784274153861 does not pass integrity checks and will not be converted to NIfTI\n",
      "/autofs/space/crater_001/datasets/public/NIH_IDC_Brain/remind/ReMIND-110/1.3.6.1.4.1.14519.5.2.1.100183031377204705413739421095350394731/US_1.3.6.1.4.1.14519.5.2.1.143822537397792974937792828054343479598 does not pass integrity checks and will not be converted to NIfTI\n",
      "/autofs/space/crater_001/datasets/public/NIH_IDC_Brain/remind/ReMIND-069/1.3.6.1.4.1.14519.5.2.1.157937955500591429009785181627145666524/US_1.3.6.1.4.1.14519.5.2.1.144282623864891134272484511033772866281 does not pass integrity checks and will not be converted to NIfTI\n",
      "/autofs/space/crater_001/datasets/public/NIH_IDC_Brain/remind/ReMIND-086/1.3.6.1.4.1.14519.5.2.1.215986710278007884353040316948855487569/US_1.3.6.1.4.1.14519.5.2.1.147877879098873410719890638939888660465 does not pass integrity checks and will not be converted to NIfTI\n",
      "/autofs/space/crater_001/datasets/public/NIH_IDC_Brain/remind/ReMIND-109/1.3.6.1.4.1.14519.5.2.1.279359199040737185807489795075180692522/US_1.3.6.1.4.1.14519.5.2.1.172490382165499162250874242972474674979 does not pass integrity checks and will not be converted to NIfTI\n",
      "/autofs/space/crater_001/datasets/public/NIH_IDC_Brain/remind/ReMIND-006/1.3.6.1.4.1.14519.5.2.1.243922522290889623821327686830029266481/US_1.3.6.1.4.1.14519.5.2.1.177733887697944181534160842439133692512 does not pass integrity checks and will not be converted to NIfTI\n",
      "/autofs/space/crater_001/datasets/public/NIH_IDC_Brain/remind/ReMIND-017/1.3.6.1.4.1.14519.5.2.1.290660279001800976092097542439806831142/US_1.3.6.1.4.1.14519.5.2.1.94513947901126048174746120492847774130 does not pass integrity checks and will not be converted to NIfTI\n",
      "/autofs/space/crater_001/datasets/public/NIH_IDC_Brain/remind/ReMIND-055/1.3.6.1.4.1.14519.5.2.1.243191946926072990746310813055395885554/US_1.3.6.1.4.1.14519.5.2.1.314414140634207126766578529955661461203 does not pass integrity checks and will not be converted to NIfTI\n",
      "/autofs/space/crater_001/datasets/public/NIH_IDC_Brain/remind/ReMIND-001/1.3.6.1.4.1.14519.5.2.1.207544490797667703011829289839681390478/US_1.3.6.1.4.1.14519.5.2.1.232655531658064896746456547069802223771 does not pass integrity checks and will not be converted to NIfTI\n",
      "/autofs/space/crater_001/datasets/public/NIH_IDC_Brain/remind/ReMIND-014/1.3.6.1.4.1.14519.5.2.1.86577429589400318470919340941326702418/US_1.3.6.1.4.1.14519.5.2.1.301281549575320376216776025270819063651 does not pass integrity checks and will not be converted to NIfTI\n",
      "/autofs/space/crater_001/datasets/public/NIH_IDC_Brain/remind/ReMIND-095/1.3.6.1.4.1.14519.5.2.1.142477857997010309462581435617855456015/US_1.3.6.1.4.1.14519.5.2.1.333249020972629011755348091467360826775 does not pass integrity checks and will not be converted to NIfTI\n",
      "/autofs/space/crater_001/datasets/public/NIH_IDC_Brain/remind/ReMIND-013/1.3.6.1.4.1.14519.5.2.1.34178599700220779107051406134879560325/US_1.3.6.1.4.1.14519.5.2.1.49967757988005647898212263882068490488 does not pass integrity checks and will not be converted to NIfTI\n",
      "/autofs/space/crater_001/datasets/public/NIH_IDC_Brain/remind/ReMIND-064/1.3.6.1.4.1.14519.5.2.1.198294423867255724034309319013877164361/US_1.3.6.1.4.1.14519.5.2.1.228734755774105920703276924403092097941 does not pass integrity checks and will not be converted to NIfTI\n",
      "/autofs/space/crater_001/datasets/public/NIH_IDC_Brain/remind/ReMIND-024/1.3.6.1.4.1.14519.5.2.1.149421504305449523664315055043979227350/US_1.3.6.1.4.1.14519.5.2.1.237193730590361801248385791692623510961 does not pass integrity checks and will not be converted to NIfTI\n",
      "/autofs/space/crater_001/datasets/public/NIH_IDC_Brain/remind/ReMIND-046/1.3.6.1.4.1.14519.5.2.1.328670638887331770149495195200247023503/US_1.3.6.1.4.1.14519.5.2.1.105213980404989799848337052718711743585 does not pass integrity checks and will not be converted to NIfTI\n",
      "/autofs/space/crater_001/datasets/public/NIH_IDC_Brain/remind/ReMIND-009/1.3.6.1.4.1.14519.5.2.1.234016595816623597320381617342192107486/US_1.3.6.1.4.1.14519.5.2.1.270571234698210280422214988888586406303 does not pass integrity checks and will not be converted to NIfTI\n",
      "/autofs/space/crater_001/datasets/public/NIH_IDC_Brain/remind/ReMIND-049/1.3.6.1.4.1.14519.5.2.1.240069180487860774418368483809734006755/US_1.3.6.1.4.1.14519.5.2.1.115234043814999343343893103501689074944 does not pass integrity checks and will not be converted to NIfTI\n",
      "/autofs/space/crater_001/datasets/public/NIH_IDC_Brain/remind/ReMIND-108/1.3.6.1.4.1.14519.5.2.1.106501998690628706908822664048714435421/US_1.3.6.1.4.1.14519.5.2.1.29267862958485597990481074802109071346 does not pass integrity checks and will not be converted to NIfTI\n",
      "/autofs/space/crater_001/datasets/public/NIH_IDC_Brain/remind/ReMIND-048/1.3.6.1.4.1.14519.5.2.1.212075398633264035254585915433270238897/US_1.3.6.1.4.1.14519.5.2.1.322585638333368444073708413843650085721 does not pass integrity checks and will not be converted to NIfTI\n",
      "/autofs/space/crater_001/datasets/public/NIH_IDC_Brain/remind/ReMIND-104/1.3.6.1.4.1.14519.5.2.1.162570123757875933141788211914733564010/US_1.3.6.1.4.1.14519.5.2.1.200839481404618834484727296989756436235 does not pass integrity checks and will not be converted to NIfTI\n",
      "/autofs/space/crater_001/datasets/public/NIH_IDC_Brain/remind/ReMIND-012/1.3.6.1.4.1.14519.5.2.1.259397557513064323870731488841180992092/US_1.3.6.1.4.1.14519.5.2.1.334277551050917119637605977030643260287 does not pass integrity checks and will not be converted to NIfTI\n",
      "Converting to NIfTI:   0%|                      | 1/226 [00:06<24:27,  6.52s/it]/autofs/space/crater_001/datasets/public/NIH_IDC_Brain/remind/ReMIND-076/1.3.6.1.4.1.14519.5.2.1.64744799302817116513757873998841094958/US_1.3.6.1.4.1.14519.5.2.1.39175516848614723161060617217412316505 does not pass integrity checks and will not be converted to NIfTI\n",
      "/autofs/space/crater_001/datasets/public/NIH_IDC_Brain/remind/ReMIND-083/1.3.6.1.4.1.14519.5.2.1.108503631863217463663721786680073156868/US_1.3.6.1.4.1.14519.5.2.1.324987897354532172854027130129378649029 does not pass integrity checks and will not be converted to NIfTI\n",
      "/autofs/space/crater_001/datasets/public/NIH_IDC_Brain/remind/ReMIND-039/1.3.6.1.4.1.14519.5.2.1.300202697104645180464109596462846150077/US_1.3.6.1.4.1.14519.5.2.1.241042637389921658421352146130651264769 does not pass integrity checks and will not be converted to NIfTI\n",
      "/autofs/space/crater_001/datasets/public/NIH_IDC_Brain/remind/ReMIND-070/1.3.6.1.4.1.14519.5.2.1.160453640775702063261261977636309186902/US_1.3.6.1.4.1.14519.5.2.1.279282702054194111341235994585331135061 does not pass integrity checks and will not be converted to NIfTI\n",
      "/autofs/space/crater_001/datasets/public/NIH_IDC_Brain/remind/ReMIND-066/1.3.6.1.4.1.14519.5.2.1.165642407627859024153012724585947202882/US_1.3.6.1.4.1.14519.5.2.1.79388366612084327675981524761033071533 does not pass integrity checks and will not be converted to NIfTI\n",
      "/autofs/space/crater_001/datasets/public/NIH_IDC_Brain/remind/ReMIND-088/1.3.6.1.4.1.14519.5.2.1.185884118049014249682008374749203537518/US_1.3.6.1.4.1.14519.5.2.1.180783498158474930244624393276603792333 does not pass integrity checks and will not be converted to NIfTI\n",
      "/autofs/space/crater_001/datasets/public/NIH_IDC_Brain/remind/ReMIND-038/1.3.6.1.4.1.14519.5.2.1.214845749082524271483393882402662698555/US_1.3.6.1.4.1.14519.5.2.1.264470963184114940031883461386454669782 does not pass integrity checks and will not be converted to NIfTI\n",
      "/autofs/space/crater_001/datasets/public/NIH_IDC_Brain/remind/ReMIND-047/1.3.6.1.4.1.14519.5.2.1.196912571279165671216443198753812692962/US_1.3.6.1.4.1.14519.5.2.1.208525586525752876175282886568148400746 does not pass integrity checks and will not be converted to NIfTI\n",
      "Converting to NIfTI:   1%|▏                     | 2/226 [00:08<15:18,  4.10s/it]/autofs/space/crater_001/datasets/public/NIH_IDC_Brain/remind/ReMIND-056/1.3.6.1.4.1.14519.5.2.1.269169253102604508017871311312901195320/US_1.3.6.1.4.1.14519.5.2.1.260778545728222628946681158850482964708 does not pass integrity checks and will not be converted to NIfTI\n",
      "/autofs/space/crater_001/datasets/public/NIH_IDC_Brain/remind/ReMIND-094/1.3.6.1.4.1.14519.5.2.1.204073901056840799396678410241531530187/US_1.3.6.1.4.1.14519.5.2.1.317093578064021591805303899910588270756 does not pass integrity checks and will not be converted to NIfTI\n",
      "/autofs/space/crater_001/datasets/public/NIH_IDC_Brain/remind/ReMIND-060/1.3.6.1.4.1.14519.5.2.1.147546177231899547505107491152977785325/US_1.3.6.1.4.1.14519.5.2.1.34443778743291292854391044005176895982 does not pass integrity checks and will not be converted to NIfTI\n",
      "/autofs/space/crater_001/datasets/public/NIH_IDC_Brain/remind/ReMIND-067/1.3.6.1.4.1.14519.5.2.1.61261010523837453950584668592440513090/US_1.3.6.1.4.1.14519.5.2.1.17304245813226213178231451555810733978 does not pass integrity checks and will not be converted to NIfTI\n",
      "/autofs/space/crater_001/datasets/public/NIH_IDC_Brain/remind/ReMIND-026/1.3.6.1.4.1.14519.5.2.1.130555642840922884401209884149848618895/US_1.3.6.1.4.1.14519.5.2.1.79104152116906148722303539556248188693 does not pass integrity checks and will not be converted to NIfTI\n",
      "Converting to NIfTI:  18%|███▋                 | 40/226 [00:43<10:23,  3.35s/it]/autofs/space/crater_001/datasets/public/NIH_IDC_Brain/remind/ReMIND-004/1.3.6.1.4.1.14519.5.2.1.113403718460107130761112752755857974801/US_1.3.6.1.4.1.14519.5.2.1.303927398309153515360629132168841745195 does not pass integrity checks and will not be converted to NIfTI\n",
      "Converting to NIfTI:  18%|███▊                 | 41/226 [00:43<07:22,  2.39s/it]/autofs/space/crater_001/datasets/public/NIH_IDC_Brain/remind/ReMIND-003/1.3.6.1.4.1.14519.5.2.1.65629729743089720274598155630375075401/US_1.3.6.1.4.1.14519.5.2.1.287602158376548229811909821543492987708 does not pass integrity checks and will not be converted to NIfTI\n",
      "Converting to NIfTI:  19%|████                 | 44/226 [00:44<02:56,  1.03it/s]/autofs/space/crater_001/datasets/public/NIH_IDC_Brain/remind/ReMIND-080/1.3.6.1.4.1.14519.5.2.1.151934676842750294924004503218022879469/US_1.3.6.1.4.1.14519.5.2.1.41496104081924350650957035938965235045 does not pass integrity checks and will not be converted to NIfTI\n",
      "Converting to NIfTI:  22%|████▌                | 49/226 [00:46<01:13,  2.41it/s]/autofs/space/crater_001/datasets/public/NIH_IDC_Brain/remind/ReMIND-111/1.3.6.1.4.1.14519.5.2.1.325304906238712652584853569775789053926/US_1.3.6.1.4.1.14519.5.2.1.224479522551524993689982220593224143902 does not pass integrity checks and will not be converted to NIfTI\n",
      "Converting to NIfTI:  23%|████▋                | 51/226 [00:46<00:55,  3.18it/s]/autofs/space/crater_001/datasets/public/NIH_IDC_Brain/remind/ReMIND-059/1.3.6.1.4.1.14519.5.2.1.268414508307420466618110346999345599386/US_1.3.6.1.4.1.14519.5.2.1.256647798012439121042120845850120561126 does not pass integrity checks and will not be converted to NIfTI\n",
      "/autofs/space/crater_001/datasets/public/NIH_IDC_Brain/remind/ReMIND-085/1.3.6.1.4.1.14519.5.2.1.65587214328693321504671981772039554649/US_1.3.6.1.4.1.14519.5.2.1.62229856970589994791571528602945429305 does not pass integrity checks and will not be converted to NIfTI\n",
      "Converting to NIfTI:  23%|████▊                | 52/226 [00:46<00:56,  3.09it/s]/autofs/space/crater_001/datasets/public/NIH_IDC_Brain/remind/ReMIND-074/1.3.6.1.4.1.14519.5.2.1.335253132923203655999924868344645063381/US_1.3.6.1.4.1.14519.5.2.1.218020757509448820530672877123091440908 does not pass integrity checks and will not be converted to NIfTI\n",
      "Converting to NIfTI:  23%|████▉                | 53/226 [00:47<00:53,  3.22it/s]/autofs/space/crater_001/datasets/public/NIH_IDC_Brain/remind/ReMIND-010/1.3.6.1.4.1.14519.5.2.1.212102115485262414486214496656525644625/US_1.3.6.1.4.1.14519.5.2.1.62250320775589196518778903509587059442 does not pass integrity checks and will not be converted to NIfTI\n",
      "/autofs/space/crater_001/datasets/public/NIH_IDC_Brain/remind/ReMIND-042/1.3.6.1.4.1.14519.5.2.1.296457429224646492865587946336300319226/US_1.3.6.1.4.1.14519.5.2.1.339448507477226772617616220052572153109 does not pass integrity checks and will not be converted to NIfTI\n",
      "Converting to NIfTI:  24%|█████                | 54/226 [00:47<01:03,  2.70it/s]/autofs/space/crater_001/datasets/public/NIH_IDC_Brain/remind/ReMIND-041/1.3.6.1.4.1.14519.5.2.1.324070386540276487057465364176568622068/US_1.3.6.1.4.1.14519.5.2.1.274032721832711927024544705771654003961 does not pass integrity checks and will not be converted to NIfTI\n",
      "/autofs/space/crater_001/datasets/public/NIH_IDC_Brain/remind/ReMIND-091/1.3.6.1.4.1.14519.5.2.1.290336930660332730566967641435992275724/US_1.3.6.1.4.1.14519.5.2.1.120128026382750525377631668182520891493 does not pass integrity checks and will not be converted to NIfTI\n",
      "/autofs/space/crater_001/datasets/public/NIH_IDC_Brain/remind/ReMIND-052/1.3.6.1.4.1.14519.5.2.1.41651193449523963745461815512695962245/US_1.3.6.1.4.1.14519.5.2.1.108190888833306666011061356659935828145 does not pass integrity checks and will not be converted to NIfTI\n",
      "/autofs/space/crater_001/datasets/public/NIH_IDC_Brain/remind/ReMIND-008/1.3.6.1.4.1.14519.5.2.1.147547077945627452900546604366490410738/US_1.3.6.1.4.1.14519.5.2.1.238672777453553365610250416704489979969 does not pass integrity checks and will not be converted to NIfTI\n",
      "/autofs/space/crater_001/datasets/public/NIH_IDC_Brain/remind/ReMIND-021/1.3.6.1.4.1.14519.5.2.1.86701019684004352453529582893626493895/US_1.3.6.1.4.1.14519.5.2.1.209860712158433750661712200605795599860 does not pass integrity checks and will not be converted to NIfTI\n",
      "/autofs/space/crater_001/datasets/public/NIH_IDC_Brain/remind/ReMIND-063/1.3.6.1.4.1.14519.5.2.1.65341525222221267402694361739494114946/US_1.3.6.1.4.1.14519.5.2.1.152775421525101685644726732648603260993 does not pass integrity checks and will not be converted to NIfTI\n",
      "/autofs/space/crater_001/datasets/public/NIH_IDC_Brain/remind/ReMIND-051/1.3.6.1.4.1.14519.5.2.1.197913434910703031669178900498007754547/US_1.3.6.1.4.1.14519.5.2.1.268179767536349983497130825124679771702 does not pass integrity checks and will not be converted to NIfTI\n",
      "/autofs/space/crater_001/datasets/public/NIH_IDC_Brain/remind/ReMIND-081/1.3.6.1.4.1.14519.5.2.1.160587932719033155899973886289678996094/US_1.3.6.1.4.1.14519.5.2.1.98724681354292589082650334471042337690 does not pass integrity checks and will not be converted to NIfTI\n",
      "/autofs/space/crater_001/datasets/public/NIH_IDC_Brain/remind/ReMIND-096/1.3.6.1.4.1.14519.5.2.1.133557931800468017537627048021098494095/US_1.3.6.1.4.1.14519.5.2.1.328216968533073019666950795146894789860 does not pass integrity checks and will not be converted to NIfTI\n",
      "/autofs/space/crater_001/datasets/public/NIH_IDC_Brain/remind/ReMIND-053/1.3.6.1.4.1.14519.5.2.1.221291355845182420376353943181682040464/US_1.3.6.1.4.1.14519.5.2.1.82269123865809845135637131242596425359 does not pass integrity checks and will not be converted to NIfTI\n",
      "/autofs/space/crater_001/datasets/public/NIH_IDC_Brain/remind/ReMIND-058/1.3.6.1.4.1.14519.5.2.1.75939965788663583948850160676569346647/US_1.3.6.1.4.1.14519.5.2.1.51249411938203733752818460720381393281 does not pass integrity checks and will not be converted to NIfTI\n",
      "/autofs/space/crater_001/datasets/public/NIH_IDC_Brain/remind/ReMIND-078/1.3.6.1.4.1.14519.5.2.1.65478559425408530169523243779528394597/US_1.3.6.1.4.1.14519.5.2.1.103662402822620145520851954150950875168 does not pass integrity checks and will not be converted to NIfTI\n",
      "/autofs/space/crater_001/datasets/public/NIH_IDC_Brain/remind/ReMIND-040/1.3.6.1.4.1.14519.5.2.1.121467880228723715151901169017318584949/US_1.3.6.1.4.1.14519.5.2.1.221079325126425075943521366779974480520 does not pass integrity checks and will not be converted to NIfTI\n",
      "/autofs/space/crater_001/datasets/public/NIH_IDC_Brain/remind/ReMIND-114/1.3.6.1.4.1.14519.5.2.1.126529003825322815549399092492450476393/US_1.3.6.1.4.1.14519.5.2.1.121839539396740237816993811842539980709 does not pass integrity checks and will not be converted to NIfTI\n",
      "/autofs/space/crater_001/datasets/public/NIH_IDC_Brain/remind/ReMIND-105/1.3.6.1.4.1.14519.5.2.1.184642700926851235543432147483396893602/US_1.3.6.1.4.1.14519.5.2.1.11629474492434616092262448170879813111 does not pass integrity checks and will not be converted to NIfTI\n",
      "/autofs/space/crater_001/datasets/public/NIH_IDC_Brain/remind/ReMIND-102/1.3.6.1.4.1.14519.5.2.1.248608508655740238587188272628195576449/US_1.3.6.1.4.1.14519.5.2.1.101722857769923355605659787391047111349 does not pass integrity checks and will not be converted to NIfTI\n",
      "/autofs/space/crater_001/datasets/public/NIH_IDC_Brain/remind/ReMIND-077/1.3.6.1.4.1.14519.5.2.1.27743715481524624394835098268215401011/US_1.3.6.1.4.1.14519.5.2.1.68245980492058250311319670235175718037 does not pass integrity checks and will not be converted to NIfTI\n",
      "/autofs/space/crater_001/datasets/public/NIH_IDC_Brain/remind/ReMIND-005/1.3.6.1.4.1.14519.5.2.1.207453351616320226121592012084952965398/US_1.3.6.1.4.1.14519.5.2.1.337519180478382503676041691364953406068 does not pass integrity checks and will not be converted to NIfTI\n",
      "/autofs/space/crater_001/datasets/public/NIH_IDC_Brain/remind/ReMIND-054/1.3.6.1.4.1.14519.5.2.1.107505286703397793687006704388096307242/US_1.3.6.1.4.1.14519.5.2.1.165972078138749842342288169838811423720 does not pass integrity checks and will not be converted to NIfTI\n",
      "/autofs/space/crater_001/datasets/public/NIH_IDC_Brain/remind/ReMIND-029/1.3.6.1.4.1.14519.5.2.1.322930783861830421421598334779265364963/US_1.3.6.1.4.1.14519.5.2.1.191919245055174684272216529719500888014 does not pass integrity checks and will not be converted to NIfTI\n",
      "/autofs/space/crater_001/datasets/public/NIH_IDC_Brain/remind/ReMIND-065/1.3.6.1.4.1.14519.5.2.1.30159315204909184930380396744561025250/US_1.3.6.1.4.1.14519.5.2.1.313378645102502238434749309659362044758 does not pass integrity checks and will not be converted to NIfTI\n",
      "/autofs/space/crater_001/datasets/public/NIH_IDC_Brain/remind/ReMIND-011/1.3.6.1.4.1.14519.5.2.1.114646129261085156563657364521954551076/US_1.3.6.1.4.1.14519.5.2.1.310051871883903497848989332166557758846 does not pass integrity checks and will not be converted to NIfTI\n",
      "/autofs/space/crater_001/datasets/public/NIH_IDC_Brain/remind/ReMIND-071/1.3.6.1.4.1.14519.5.2.1.33885990634320482908713541924037590639/US_1.3.6.1.4.1.14519.5.2.1.260221168847769957293163751618253312207 does not pass integrity checks and will not be converted to NIfTI\n",
      "/autofs/space/crater_001/datasets/public/NIH_IDC_Brain/remind/ReMIND-033/1.3.6.1.4.1.14519.5.2.1.182399414616341356002830317400309717864/US_1.3.6.1.4.1.14519.5.2.1.265277837147432336390804999421223845639 does not pass integrity checks and will not be converted to NIfTI\n",
      "/autofs/space/crater_001/datasets/public/NIH_IDC_Brain/remind/ReMIND-098/1.3.6.1.4.1.14519.5.2.1.96204302712244433210147200213163502334/US_1.3.6.1.4.1.14519.5.2.1.227196364935602630696640755064008629593 does not pass integrity checks and will not be converted to NIfTI\n",
      "Converting to NIfTI:  25%|█████▏               | 56/226 [01:13<16:02,  5.66s/it]/autofs/space/crater_001/datasets/public/NIH_IDC_Brain/remind/ReMIND-082/1.3.6.1.4.1.14519.5.2.1.319475739641843429220844767031842152183/US_1.3.6.1.4.1.14519.5.2.1.144409985111850034110167664159973654305 does not pass integrity checks and will not be converted to NIfTI\n",
      "Converting to NIfTI:  25%|█████▎               | 57/226 [01:14<11:50,  4.20s/it]/autofs/space/crater_001/datasets/public/NIH_IDC_Brain/remind/ReMIND-027/1.3.6.1.4.1.14519.5.2.1.118472701819628444335867920317744946693/US_1.3.6.1.4.1.14519.5.2.1.83789406543309651847286403528162335268 does not pass integrity checks and will not be converted to NIfTI\n",
      "Converting to NIfTI: 100%|████████████████████| 226/226 [01:42<00:00,  2.21it/s]\n"
     ]
    }
   ],
   "source": [
    "!preprocessing dataset-to-nifti \\\n",
    "    \"/autofs/space/crater_001/datasets/public/NIH_IDC_Brain/remind_nifti\" \\\n",
    "    \"dicom_dataset_examples/remind_dataset.csv\" \\\n",
    "    -ss T1Post \\\n",
    "    -c 80"
   ]
  },
  {
   "cell_type": "code",
   "execution_count": 9,
   "id": "28d2bee1-3e00-4c53-860e-4ea7ff4a3f61",
   "metadata": {},
   "outputs": [
    {
     "name": "stdout",
     "output_type": "stream",
     "text": [
      "Help on function convert_batch_to_nifti in module preprocessing.data.nifti_conversion:\n",
      "\n",
      "convert_batch_to_nifti(nifti_dir: pathlib.Path | str, csv: pathlib.Path | str, seg_source: str | None = None, overwrite_nifti: bool = False, skip_integrity_checks: bool = False, tolerance: float = 0.05, cpus: int = 1, check_columns: bool = True) -> pandas.core.frame.DataFrame\n",
      "    Convert a DICOM dataset to NIfTI files representing each series.\n",
      "    \n",
      "    Parameters\n",
      "    ----------\n",
      "    nifti_dir: Path | str\n",
      "        The root directory under which the converted NIfTI files will be written. Subdirectories\n",
      "        will be created to follow a BIDS inspired convention.\n",
      "    \n",
      "    csv: Path | str\n",
      "        The path to a CSV containing an entire dataset. It must contain the following\n",
      "        columns: ['Dicoms', 'AnonPatientID', 'AnonStudyID', 'StudyInstanceUID',\n",
      "        'SeriesInstanceUID', 'Manufacturer', 'NormalizedSeriesDescription', 'SeriesType'].\n",
      "    \n",
      "    seg_source: str | None\n",
      "        The 'NormalizedSeriesDescription' of the source volume used for deriving segmentations.\n",
      "    \n",
      "    overwrite: bool\n",
      "        Whether to overwrite the NIfTI file if there is already one with the same output name.\n",
      "        Defaults to False.\n",
      "    \n",
      "    skip_integrity_checks: bool\n",
      "        Whether to skip performing the DICOM integrity checks before attempting conversion to\n",
      "        NIfTI.\n",
      "    \n",
      "    tolerance: float\n",
      "        The conversion tolerance for `highdicom`'s NIfTI conversion. Defaults to 0.05.\n",
      "    \n",
      "    cpus: int\n",
      "        Number of cpus to use for multiprocessing. Defaults to 1 (no multiprocessing).\n",
      "    \n",
      "    check_columns: bool\n",
      "        Whether to check the CSV for the required columns. Defaults to True.\n",
      "    \n",
      "    Returns\n",
      "    -------\n",
      "    pd.DataFrame\n",
      "        A DataFrame that contains the new column: 'Nifti'. This DataFrame will be used to overwrite\n",
      "        the CSV.\n",
      "\n"
     ]
    }
   ],
   "source": [
    "from preprocessing.data import convert_batch_to_nifti\n",
    "help(convert_batch_to_nifti)"
   ]
  },
  {
   "cell_type": "code",
   "execution_count": 10,
   "id": "a8ee11dc-52f8-42ba-bc66-48a8deacd926",
   "metadata": {},
   "outputs": [
    {
     "name": "stderr",
     "output_type": "stream",
     "text": [
      "Converting to NIfTI:   1%|██▏                                                                                                                                                                                                                                                                                | 18/2270 [00:07<06:25,  5.85it/s]"
     ]
    },
    {
     "name": "stdout",
     "output_type": "stream",
     "text": [
      "/autofs/space/crater_001/datasets/public/NIH_IDC_Brain/upenn_gbm/UPENN-GBM-00263/1.3.6.1.4.1.14519.5.2.1.326397760301295542527701713877675360535/MR_1.3.6.1.4.1.14519.5.2.1.149535003298172005278901576115724126751 does not pass integrity checks and will not be converted to NIfTI\n"
     ]
    },
    {
     "name": "stderr",
     "output_type": "stream",
     "text": [
      "Converting to NIfTI: 100%|█████████████████████████████████████████████████████████████████████████████████████████████████████████████████████████████████████████████████████████████████████████████████████████████████████████████████████████████████████████████████████████████████████████████████| 2270/2270 [05:32<00:00,  6.83it/s]\n"
     ]
    }
   ],
   "source": [
    "df = convert_batch_to_nifti(\n",
    "    nifti_dir=\"/autofs/space/crater_001/datasets/public/NIH_IDC_Brain/upenn_gbm_nifti\",\n",
    "    csv=\"dicom_dataset_examples/upenn_gbm_dataset.csv\",\n",
    "    seg_source=\"T1Post\",\n",
    "    overwrite_nifti=False,\n",
    "    cpus=80\n",
    ")"
   ]
  }
 ],
 "metadata": {
  "kernelspec": {
   "display_name": "Python (preprocessing_dev)",
   "language": "python",
   "name": "preprocessing_dev"
  },
  "language_info": {
   "codemirror_mode": {
    "name": "ipython",
    "version": 3
   },
   "file_extension": ".py",
   "mimetype": "text/x-python",
   "name": "python",
   "nbconvert_exporter": "python",
   "pygments_lexer": "ipython3",
   "version": "3.11.10"
  },
  "widgets": {
   "application/vnd.jupyter.widget-state+json": {
    "state": {},
    "version_major": 2,
    "version_minor": 0
   }
  }
 },
 "nbformat": 4,
 "nbformat_minor": 5
}
